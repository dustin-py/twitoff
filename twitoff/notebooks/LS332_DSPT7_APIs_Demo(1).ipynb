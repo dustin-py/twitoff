{
 "cells": [
  {
   "cell_type": "markdown",
   "metadata": {
    "toc": true
   },
   "source": [
    "<h1>Table of Contents<span class=\"tocSkip\"></span></h1>\n",
    "<div class=\"toc\"><ul class=\"toc-item\"><li><span><a href=\"#DSPT6---Unit-3-Module-2---Consuming-Data-from-an-API\" data-toc-modified-id=\"DSPT6---Unit-3-Module-2---Consuming-Data-from-an-API-1\"><span class=\"toc-item-num\">1&nbsp;&nbsp;</span>DSPT6 - Unit 3 Module 2 - Consuming Data from an API</a></span></li><li><span><a href=\"#SpaCy-Embeddings\" data-toc-modified-id=\"SpaCy-Embeddings-2\"><span class=\"toc-item-num\">2&nbsp;&nbsp;</span>SpaCy Embeddings</a></span></li><li><span><a href=\"#Bringing-it-all-together\" data-toc-modified-id=\"Bringing-it-all-together-3\"><span class=\"toc-item-num\">3&nbsp;&nbsp;</span>Bringing it all together</a></span></li></ul></div>"
   ]
  },
  {
   "cell_type": "markdown",
   "metadata": {
    "colab": {
     "base_uri": "https://localhost:8080/",
     "height": 155
    },
    "colab_type": "code",
    "id": "SGPLRW-t1ECX",
    "outputId": "f774218a-8e3e-46b3-80ec-8eb1667ddd33"
   },
   "source": [
    "### DSPT6 - Unit 3 Module 2 - Consuming Data from an API\n",
    "\n",
    "The purpose of this notebook is to demonstrate:\n",
    "- Connect to the Twitter API (and twitter_scraper) to query for tweets and user information by various parameters\n",
    "- Convert tweet text using SpaCy into numerical embeddings that can be use in a predictive model"
   ]
  },
  {
   "cell_type": "code",
   "execution_count": 1,
   "metadata": {
    "colab": {},
    "colab_type": "code",
    "id": "vS_A9hjG1HGD"
   },
   "outputs": [],
   "source": [
    "import tweepy"
   ]
  },
  {
   "cell_type": "code",
   "execution_count": 2,
   "metadata": {
    "colab": {},
    "colab_type": "code",
    "id": "ntkRF7mp8zqp"
   },
   "outputs": [],
   "source": []
  },
  {
   "cell_type": "code",
   "execution_count": 3,
   "metadata": {
    "colab": {},
    "colab_type": "code",
    "id": "6F65yM5G1gP1"
   },
   "outputs": [],
   "source": [
    "TWITTER_AUTH = tweepy.OAuthHandler(TWITTER_CONSUMER_API_KEY, TWITTER_CONSUMER_API_SECRET)\n",
    "TWITTER_AUTH.set_access_token(TWITTER_ACCESS_TOKEN, TWITTER_ACCESS_TOKEN_SECRET)\n",
    "TWITTER = tweepy.API(TWITTER_AUTH)"
   ]
  },
  {
   "cell_type": "code",
   "execution_count": 4,
   "metadata": {},
   "outputs": [
    {
     "output_type": "execute_result",
     "data": {
      "text/plain": "[&#39;__class__&#39;,\n &#39;__delattr__&#39;,\n &#39;__dict__&#39;,\n &#39;__dir__&#39;,\n &#39;__doc__&#39;,\n &#39;__eq__&#39;,\n &#39;__format__&#39;,\n &#39;__ge__&#39;,\n &#39;__getattribute__&#39;,\n &#39;__gt__&#39;,\n &#39;__hash__&#39;,\n &#39;__init__&#39;,\n &#39;__init_subclass__&#39;,\n &#39;__le__&#39;,\n &#39;__lt__&#39;,\n &#39;__module__&#39;,\n &#39;__ne__&#39;,\n &#39;__new__&#39;,\n &#39;__reduce__&#39;,\n &#39;__reduce_ex__&#39;,\n &#39;__repr__&#39;,\n &#39;__setattr__&#39;,\n &#39;__sizeof__&#39;,\n &#39;__str__&#39;,\n &#39;__subclasshook__&#39;,\n &#39;__weakref__&#39;,\n &#39;_add_list_members&#39;,\n &#39;_lookup_friendships&#39;,\n &#39;_pack_image&#39;,\n &#39;_remove_list_members&#39;,\n &#39;_send_direct_message&#39;,\n &#39;add_list_member&#39;,\n &#39;add_list_members&#39;,\n &#39;api_root&#39;,\n &#39;auth&#39;,\n &#39;blocks&#39;,\n &#39;blocks_ids&#39;,\n &#39;cache&#39;,\n &#39;compression&#39;,\n &#39;configuration&#39;,\n &#39;create_block&#39;,\n &#39;create_favorite&#39;,\n &#39;create_friendship&#39;,\n &#39;create_list&#39;,\n &#39;create_media_metadata&#39;,\n &#39;create_mute&#39;,\n &#39;create_saved_search&#39;,\n &#39;destroy_block&#39;,\n &#39;destroy_direct_message&#39;,\n &#39;destroy_favorite&#39;,\n &#39;destroy_friendship&#39;,\n &#39;destroy_list&#39;,\n &#39;destroy_mute&#39;,\n &#39;destroy_saved_search&#39;,\n &#39;destroy_status&#39;,\n &#39;favorites&#39;,\n &#39;followers&#39;,\n &#39;followers_ids&#39;,\n &#39;friends&#39;,\n &#39;friends_ids&#39;,\n &#39;friendships_incoming&#39;,\n &#39;friendships_outgoing&#39;,\n &#39;geo_id&#39;,\n &#39;geo_search&#39;,\n &#39;geo_similar_places&#39;,\n &#39;get_direct_message&#39;,\n &#39;get_list&#39;,\n &#39;get_oembed&#39;,\n &#39;get_saved_search&#39;,\n &#39;get_settings&#39;,\n &#39;get_status&#39;,\n &#39;get_user&#39;,\n &#39;home_timeline&#39;,\n &#39;host&#39;,\n &#39;list_direct_messages&#39;,\n &#39;list_members&#39;,\n &#39;list_subscribers&#39;,\n &#39;list_timeline&#39;,\n &#39;lists_all&#39;,\n &#39;lists_memberships&#39;,\n &#39;lists_subscriptions&#39;,\n &#39;lookup_friendships&#39;,\n &#39;lookup_users&#39;,\n &#39;me&#39;,\n &#39;media_upload&#39;,\n &#39;mentions_timeline&#39;,\n &#39;mutes&#39;,\n &#39;mutes_ids&#39;,\n &#39;parser&#39;,\n &#39;proxy&#39;,\n &#39;rate_limit_status&#39;,\n &#39;related_results&#39;,\n &#39;remove_list_member&#39;,\n &#39;remove_list_members&#39;,\n &#39;report_spam&#39;,\n &#39;retry_count&#39;,\n &#39;retry_delay&#39;,\n &#39;retry_errors&#39;,\n &#39;retweet&#39;,\n &#39;retweeters&#39;,\n &#39;retweets&#39;,\n &#39;retweets_of_me&#39;,\n &#39;reverse_geocode&#39;,\n &#39;saved_searches&#39;,\n &#39;search&#39;,\n &#39;search_host&#39;,\n &#39;search_root&#39;,\n &#39;search_users&#39;,\n &#39;send_direct_message&#39;,\n &#39;set_settings&#39;,\n &#39;show_friendship&#39;,\n &#39;show_list_member&#39;,\n &#39;show_list_subscriber&#39;,\n &#39;statuses_lookup&#39;,\n &#39;subscribe_list&#39;,\n &#39;supported_languages&#39;,\n &#39;timeout&#39;,\n &#39;trends_available&#39;,\n &#39;trends_closest&#39;,\n &#39;trends_place&#39;,\n &#39;unretweet&#39;,\n &#39;unsubscribe_list&#39;,\n &#39;update_list&#39;,\n &#39;update_profile&#39;,\n &#39;update_profile_background_image&#39;,\n &#39;update_profile_banner&#39;,\n &#39;update_profile_image&#39;,\n &#39;update_status&#39;,\n &#39;update_with_media&#39;,\n &#39;upload_host&#39;,\n &#39;upload_root&#39;,\n &#39;user_timeline&#39;,\n &#39;verify_credentials&#39;,\n &#39;wait_on_rate_limit&#39;,\n &#39;wait_on_rate_limit_notify&#39;]"
     },
     "metadata": {},
     "execution_count": 4
    }
   ],
   "source": [
    "dir(TWITTER)"
   ]
  },
  {
   "cell_type": "code",
   "execution_count": 5,
   "metadata": {},
   "outputs": [
    {
     "output_type": "execute_result",
     "data": {
      "text/plain": "User(_api=&lt;tweepy.api.API object at 0x000001411DBF3948&gt;, _json={&#39;id&#39;: 44196397, &#39;id_str&#39;: &#39;44196397&#39;, &#39;name&#39;: &#39;Elon Musk&#39;, &#39;screen_name&#39;: &#39;elonmusk&#39;, &#39;location&#39;: &#39;&#39;, &#39;profile_location&#39;: None, &#39;description&#39;: &#39;&#39;, &#39;url&#39;: None, &#39;entities&#39;: {&#39;description&#39;: {&#39;urls&#39;: []}}, &#39;protected&#39;: False, &#39;followers_count&#39;: 39057023, &#39;friends_count&#39;: 97, &#39;listed_count&#39;: 56238, &#39;created_at&#39;: &#39;Tue Jun 02 20:12:29 +0000 2009&#39;, &#39;favourites_count&#39;: 6756, &#39;utc_offset&#39;: None, &#39;time_zone&#39;: None, &#39;geo_enabled&#39;: False, &#39;verified&#39;: True, &#39;statuses_count&#39;: 12445, &#39;lang&#39;: None, &#39;status&#39;: {&#39;created_at&#39;: &#39;Thu Oct 01 23:59:26 +0000 2020&#39;, &#39;id&#39;: 1311818032671453184, &#39;id_str&#39;: &#39;1311818032671453184&#39;, &#39;text&#39;: &#39;@FOX10Phoenix 💰💩🤣&#39;, &#39;truncated&#39;: False, &#39;entities&#39;: {&#39;hashtags&#39;: [], &#39;symbols&#39;: [], &#39;user_mentions&#39;: [{&#39;screen_name&#39;: &#39;FOX10Phoenix&#39;, &#39;name&#39;: &#39;FOX 10 Phoenix&#39;, &#39;id&#39;: 18999261, &#39;id_str&#39;: &#39;18999261&#39;, &#39;indices&#39;: [0, 13]}], &#39;urls&#39;: []}, &#39;source&#39;: &#39;&lt;a href=&quot;http://twitter.com/download/iphone&quot; rel=&quot;nofollow&quot;&gt;Twitter for iPhone&lt;/a&gt;&#39;, &#39;in_reply_to_status_id&#39;: 1311816162808860673, &#39;in_reply_to_status_id_str&#39;: &#39;1311816162808860673&#39;, &#39;in_reply_to_user_id&#39;: 18999261, &#39;in_reply_to_user_id_str&#39;: &#39;18999261&#39;, &#39;in_reply_to_screen_name&#39;: &#39;FOX10Phoenix&#39;, &#39;geo&#39;: None, &#39;coordinates&#39;: None, &#39;place&#39;: None, &#39;contributors&#39;: None, &#39;is_quote_status&#39;: False, &#39;retweet_count&#39;: 256, &#39;favorite_count&#39;: 5454, &#39;favorited&#39;: False, &#39;retweeted&#39;: False, &#39;lang&#39;: &#39;und&#39;}, &#39;contributors_enabled&#39;: False, &#39;is_translator&#39;: False, &#39;is_translation_enabled&#39;: False, &#39;profile_background_color&#39;: &#39;C0DEED&#39;, &#39;profile_background_image_url&#39;: &#39;http://abs.twimg.com/images/themes/theme1/bg.png&#39;, &#39;profile_background_image_url_https&#39;: &#39;https://abs.twimg.com/images/themes/theme1/bg.png&#39;, &#39;profile_background_tile&#39;: False, &#39;profile_image_url&#39;: &#39;http://pbs.twimg.com/profile_images/1295975423654977537/dHw9JcrK_normal.jpg&#39;, &#39;profile_image_url_https&#39;: &#39;https://pbs.twimg.com/profile_images/1295975423654977537/dHw9JcrK_normal.jpg&#39;, &#39;profile_banner_url&#39;: &#39;https://pbs.twimg.com/profile_banners/44196397/1576183471&#39;, &#39;profile_link_color&#39;: &#39;0084B4&#39;, &#39;profile_sidebar_border_color&#39;: &#39;C0DEED&#39;, &#39;profile_sidebar_fill_color&#39;: &#39;DDEEF6&#39;, &#39;profile_text_color&#39;: &#39;333333&#39;, &#39;profile_use_background_image&#39;: True, &#39;has_extended_profile&#39;: True, &#39;default_profile&#39;: False, &#39;default_profile_image&#39;: False, &#39;following&#39;: True, &#39;follow_request_sent&#39;: False, &#39;notifications&#39;: False, &#39;translator_type&#39;: &#39;none&#39;}, id=44196397, id_str=&#39;44196397&#39;, name=&#39;Elon Musk&#39;, screen_name=&#39;elonmusk&#39;, location=&#39;&#39;, profile_location=None, description=&#39;&#39;, url=None, entities={&#39;description&#39;: {&#39;urls&#39;: []}}, protected=False, followers_count=39057023, friends_count=97, listed_count=56238, created_at=datetime.datetime(2009, 6, 2, 20, 12, 29), favourites_count=6756, utc_offset=None, time_zone=None, geo_enabled=False, verified=True, statuses_count=12445, lang=None, status=Status(_api=&lt;tweepy.api.API object at 0x000001411DBF3948&gt;, _json={&#39;created_at&#39;: &#39;Thu Oct 01 23:59:26 +0000 2020&#39;, &#39;id&#39;: 1311818032671453184, &#39;id_str&#39;: &#39;1311818032671453184&#39;, &#39;text&#39;: &#39;@FOX10Phoenix 💰💩🤣&#39;, &#39;truncated&#39;: False, &#39;entities&#39;: {&#39;hashtags&#39;: [], &#39;symbols&#39;: [], &#39;user_mentions&#39;: [{&#39;screen_name&#39;: &#39;FOX10Phoenix&#39;, &#39;name&#39;: &#39;FOX 10 Phoenix&#39;, &#39;id&#39;: 18999261, &#39;id_str&#39;: &#39;18999261&#39;, &#39;indices&#39;: [0, 13]}], &#39;urls&#39;: []}, &#39;source&#39;: &#39;&lt;a href=&quot;http://twitter.com/download/iphone&quot; rel=&quot;nofollow&quot;&gt;Twitter for iPhone&lt;/a&gt;&#39;, &#39;in_reply_to_status_id&#39;: 1311816162808860673, &#39;in_reply_to_status_id_str&#39;: &#39;1311816162808860673&#39;, &#39;in_reply_to_user_id&#39;: 18999261, &#39;in_reply_to_user_id_str&#39;: &#39;18999261&#39;, &#39;in_reply_to_screen_name&#39;: &#39;FOX10Phoenix&#39;, &#39;geo&#39;: None, &#39;coordinates&#39;: None, &#39;place&#39;: None, &#39;contributors&#39;: None, &#39;is_quote_status&#39;: False, &#39;retweet_count&#39;: 256, &#39;favorite_count&#39;: 5454, &#39;favorited&#39;: False, &#39;retweeted&#39;: False, &#39;lang&#39;: &#39;und&#39;}, created_at=datetime.datetime(2020, 10, 1, 23, 59, 26), id=1311818032671453184, id_str=&#39;1311818032671453184&#39;, text=&#39;@FOX10Phoenix 💰💩🤣&#39;, truncated=False, entities={&#39;hashtags&#39;: [], &#39;symbols&#39;: [], &#39;user_mentions&#39;: [{&#39;screen_name&#39;: &#39;FOX10Phoenix&#39;, &#39;name&#39;: &#39;FOX 10 Phoenix&#39;, &#39;id&#39;: 18999261, &#39;id_str&#39;: &#39;18999261&#39;, &#39;indices&#39;: [0, 13]}], &#39;urls&#39;: []}, source=&#39;Twitter for iPhone&#39;, source_url=&#39;http://twitter.com/download/iphone&#39;, in_reply_to_status_id=1311816162808860673, in_reply_to_status_id_str=&#39;1311816162808860673&#39;, in_reply_to_user_id=18999261, in_reply_to_user_id_str=&#39;18999261&#39;, in_reply_to_screen_name=&#39;FOX10Phoenix&#39;, geo=None, coordinates=None, place=None, contributors=None, is_quote_status=False, retweet_count=256, favorite_count=5454, favorited=False, retweeted=False, lang=&#39;und&#39;), contributors_enabled=False, is_translator=False, is_translation_enabled=False, profile_background_color=&#39;C0DEED&#39;, profile_background_image_url=&#39;http://abs.twimg.com/images/themes/theme1/bg.png&#39;, profile_background_image_url_https=&#39;https://abs.twimg.com/images/themes/theme1/bg.png&#39;, profile_background_tile=False, profile_image_url=&#39;http://pbs.twimg.com/profile_images/1295975423654977537/dHw9JcrK_normal.jpg&#39;, profile_image_url_https=&#39;https://pbs.twimg.com/profile_images/1295975423654977537/dHw9JcrK_normal.jpg&#39;, profile_banner_url=&#39;https://pbs.twimg.com/profile_banners/44196397/1576183471&#39;, profile_link_color=&#39;0084B4&#39;, profile_sidebar_border_color=&#39;C0DEED&#39;, profile_sidebar_fill_color=&#39;DDEEF6&#39;, profile_text_color=&#39;333333&#39;, profile_use_background_image=True, has_extended_profile=True, default_profile=False, default_profile_image=False, following=True, follow_request_sent=False, notifications=False, translator_type=&#39;none&#39;)"
     },
     "metadata": {},
     "execution_count": 5
    }
   ],
   "source": [
    "twitter_user = TWITTER.get_user('elonmusk')\n",
    "twitter_user"
   ]
  },
  {
   "cell_type": "code",
   "execution_count": 6,
   "metadata": {},
   "outputs": [
    {
     "output_type": "execute_result",
     "data": {
      "text/plain": "44196397"
     },
     "metadata": {},
     "execution_count": 6
    }
   ],
   "source": [
    "twitter_user.id"
   ]
  },
  {
   "cell_type": "code",
   "execution_count": 7,
   "metadata": {},
   "outputs": [
    {
     "output_type": "execute_result",
     "data": {
      "text/plain": "&#39;, profile_banner_url=&#39;https://pbs.twimg.com/profile_banners/1275082205233111040/1593008269&#39;, profile_link_color=&#39;1DA1F2&#39;, profile_sidebar_border_color=&#39;C0DEED&#39;, profile_sidebar_fill_color=&#39;DDEEF6&#39;, profile_text_color=&#39;333333&#39;, profile_use_background_image=True, has_extended_profile=False, default_profile=True, default_profile_image=False, following=False, follow_request_sent=False, notifications=False, translator_type=&#39;none&#39;), geo=None, coordinates=None, place=None, contributors=None, is_quote_status=False, retweet_count=4024, favorite_count=26508, favorited=False, retweeted=False, possibly_sensitive=False, lang=&#39;en&#39;), is_quote_status=False, retweet_count=4024, favorite_count=0, favorited=False, retweeted=False, lang=&#39;en&#39;),\n Status(_api=&lt;tweepy.api.API object at 0x000001411DBF3948&gt;, _json={&#39;created_at&#39;: &#39;Tue Sep 29 00:20:37 +0000 2020&#39;, &#39;id&#39;: 1310736203482836993, &#39;id_str&#39;: &#39;1310736203482836993&#39;, &#39;text&#39;: &#39;@ValaAfshar @Tesla Having a low center of gravity makes a world of difference to safety&#39;, &#39;truncated&#39;: False, &#39;entities&#39;: {&#39;hashtags&#39;: [], &#39;symbols&#39;: [], &#39;user_mentions&#39;: [{&#39;screen_name&#39;: &#39;ValaAfshar&#39;, &#39;name&#39;: &#39;Vala Afshar&#39;, &#39;id&#39;: 259725229, &#39;id_str&#39;: &#39;259725229&#39;, &#39;indices&#39;: [0, 11]}, {&#39;screen_name&#39;: &#39;Tesla&#39;, &#39;name&#39;: &#39;Tesla&#39;, &#39;id&#39;: 13298072, &#39;id_str&#39;: &#39;13298072&#39;, &#39;indices&#39;: [12, 18]}], &#39;urls&#39;: []}, &#39;source&#39;: &#39;&lt;a href=&quot;http://twitter.com/download/iphone&quot; rel=&quot;nofollow&quot;&gt;Twitter for iPhone&lt;/a&gt;&#39;, &#39;in_reply_to_status_id&#39;: 1310623334367989761, &#39;in_reply_to_status_id_str&#39;: &#39;1310623334367989761&#39;, &#39;in_reply_to_user_id&#39;: 259725229, &#39;in_reply_to_user_id_str&#39;: &#39;259725229&#39;, &#39;in_reply_to_screen_name&#39;: &#39;ValaAfshar&#39;, &#39;user&#39;: {&#39;id&#39;: 44196397, &#39;id_str&#39;: &#39;44196397&#39;, &#39;name&#39;: &#39;Elon Musk&#39;, &#39;screen_name&#39;: &#39;elonmusk&#39;, &#39;location&#39;: &#39;&#39;, &#39;description&#39;: &#39;&#39;, &#39;url&#39;: None, &#39;entities&#39;: {&#39;description&#39;: {&#39;urls&#39;: []}}, &#39;protected&#39;: False, &#39;followers_count&#39;: 39057054, &#39;friends_count&#39;: 97, &#39;listed_count&#39;: 56238, &#39;created_at&#39;: &#39;Tue Jun 02 20:12:29 +0000 2009&#39;, &#39;favourites_count&#39;: 6756, &#39;utc_offset&#39;: None, &#39;time_zone&#39;: None, &#39;geo_enabled&#39;: False, &#39;verified&#39;: True, &#39;statuses_count&#39;: 12445, &#39;lang&#39;: None, &#39;contributors_enabled&#39;: False, &#39;is_translator&#39;: False, &#39;is_translation_enabled&#39;: False, &#39;profile_background_color&#39;: &#39;C0DEED&#39;, &#39;profile_background_image_url&#39;: &#39;http://abs.twimg.com/images/themes/theme1/bg.png&#39;, &#39;profile_background_image_url_https&#39;: &#39;https://abs.twimg.com/images/themes/theme1/bg.png&#39;, &#39;profile_background_tile&#39;: False, &#39;profile_image_url&#39;: &#39;http://pbs.twimg.com/profile_images/1295975423654977537/dHw9JcrK_normal.jpg&#39;, &#39;profile_image_url_https&#39;: &#39;https://pbs.twimg.com/profile_images/1295975423654977537/dHw9JcrK_normal.jpg&#39;, &#39;profile_banner_url&#39;: &#39;https://pbs.twimg.com/profile_banners/44196397/1576183471&#39;, &#39;profile_link_color&#39;: &#39;0084B4&#39;, &#39;profile_sidebar_border_color&#39;: &#39;C0DEED&#39;, &#39;profile_sidebar_fill_color&#39;: &#39;DDEEF6&#39;, &#39;profile_text_color&#39;: &#39;333333&#39;, &#39;profile_use_background_image&#39;: True, &#39;has_extended_profile&#39;: True, &#39;default_profile&#39;: False, &#39;default_profile_image&#39;: False, &#39;following&#39;: True, &#39;follow_request_sent&#39;: False, &#39;notifications&#39;: False, &#39;translator_type&#39;: &#39;none&#39;}, &#39;geo&#39;: None, &#39;coordinates&#39;: None, &#39;place&#39;: None, &#39;contributors&#39;: None, &#39;is_quote_status&#39;: False, &#39;retweet_count&#39;: 273, &#39;favorite_count&#39;: 5311, &#39;favorited&#39;: False, &#39;retweeted&#39;: False, &#39;lang&#39;: &#39;en&#39;}, created_at=datetime.datetime(2020, 9, 29, 0, 20, 37), id=1310736203482836993, id_str=&#39;1310736203482836993&#39;, text=&#39;@ValaAfshar @Tesla Having a low center of gravity makes a world of difference to safety&#39;, truncated=False, entities={&#39;hashtags&#39;: [], &#39;symbols&#39;: [], &#39;user_mentions&#39;: [{&#39;screen_name&#39;: &#39;ValaAfshar&#39;, &#39;name&#39;: &#39;Vala Afshar&#39;, &#39;id&#39;: 259725229, &#39;id_str&#39;: &#39;259725229&#39;, &#39;indices&#39;: [0, 11]}, {&#39;screen_name&#39;: &#39;Tesla&#39;, &#39;name&#39;: &#39;Tesla&#39;, &#39;id&#39;: 13298072, &#39;id_str&#39;: &#39;13298072&#39;, &#39;indices&#39;: [12, 18]}], &#39;urls&#39;: []}, source=&#39;Twitter for iPhone&#39;, source_url=&#39;http://twitter.com/download/iphone&#39;, in_reply_to_status_id=1310623334367989761, in_reply_to_status_id_str=&#39;1310623334367989761&#39;, in_reply_to_user_id=259725229, in_reply_to_user_id_str=&#39;259725229&#39;, in_reply_to_screen_name=&#39;ValaAfshar&#39;, author=User(_api=&lt;tweepy.api.API object at 0x000001411DBF3948&gt;, _json={&#39;id&#39;: 44196397, &#39;id_str&#39;: &#39;44196397&#39;, &#39;name&#39;: &#39;Elon Musk&#39;, &#39;screen_name&#39;: &#39;elonmusk&#39;, &#39;location&#39;: &#39;&#39;, &#39;description&#39;: &#39;&#39;, &#39;url&#39;: None, &#39;entities&#39;: {&#39;description&#39;: {&#39;urls&#39;: []}}, &#39;protected&#39;: False, &#39;followers_count&#39;: 39057054, &#39;friends_count&#39;: 97, &#39;listed_count&#39;: 56238, &#39;created_at&#39;: &#39;Tue Jun 02 20:12:29 +0000 2009&#39;, &#39;favourites_count&#39;: 6756, &#39;utc_offset&#39;: None, &#39;time_zone&#39;: None, &#39;geo_enabled&#39;: False, &#39;verified&#39;: True, &#39;statuses_count&#39;: 12445, &#39;lang&#39;: None, &#39;contributors_enabled&#39;: False, &#39;is_translator&#39;: False, &#39;is_translation_enabled&#39;: False, &#39;profile_background_color&#39;: &#39;C0DEED&#39;, &#39;profile_background_image_url&#39;: &#39;http://abs.twimg.com/images/themes/theme1/bg.png&#39;, &#39;profile_background_image_url_https&#39;: &#39;https://abs.twimg.com/images/themes/theme1/bg.png&#39;, &#39;profile_background_tile&#39;: False, &#39;profile_image_url&#39;: &#39;http://pbs.twimg.com/profile_images/1295975423654977537/dHw9JcrK_normal.jpg&#39;, &#39;profile_image_url_https&#39;: &#39;https://pbs.twimg.com/profile_images/1295975423654977537/dHw9JcrK_normal.jpg&#39;, &#39;profile_banner_url&#39;: &#39;https://pbs.twimg.com/profile_banners/44196397/1576183471&#39;, &#39;profile_link_color&#39;: &#39;0084B4&#39;, &#39;profile_sidebar_border_color&#39;: &#39;C0DEED&#39;, &#39;profile_sidebar_fill_color&#39;: &#39;DDEEF6&#39;, &#39;profile_text_color&#39;: &#39;333333&#39;, &#39;profile_use_background_image&#39;: True, &#39;has_extended_profile&#39;: True, &#39;default_profile&#39;: False, &#39;default_profile_image&#39;: False, &#39;following&#39;: True, &#39;follow_request_sent&#39;: False, &#39;notifications&#39;: False, &#39;translator_type&#39;: &#39;none&#39;}, id=44196397, id_str=&#39;44196397&#39;, name=&#39;Elon Musk&#39;, screen_name=&#39;elonmusk&#39;, location=&#39;&#39;, description=&#39;&#39;, url=None, entities={&#39;description&#39;: {&#39;urls&#39;: []}}, protected=False, followers_count=39057054, friends_count=97, listed_count=56238, created_at=datetime.datetime(2009, 6, 2, 20, 12, 29), favourites_count=6756, utc_offset=None, time_zone=None, geo_enabled=False, verified=True, statuses_count=12445, lang=None, contributors_enabled=False, is_translator=False, is_translation_enabled=False, profile_background_color=&#39;C0DEED&#39;, profile_background_image_url=&#39;http://abs.twimg.com/images/themes/theme1/bg.png&#39;, profile_background_image_url_https=&#39;https://abs.twimg.com/images/themes/theme1/bg.png&#39;, profile_background_tile=False, profile_image_url=&#39;http://pbs.twimg.com/profile_images/1295975423654977537/dHw9JcrK_normal.jpg&#39;, profile_image_url_https=&#39;https://pbs.twimg.com/profile_images/1295975423654977537/dHw9JcrK_normal.jpg&#39;, profile_banner_url=&#39;https://pbs.twimg.com/profile_banners/44196397/1576183471&#39;, profile_link_color=&#39;0084B4&#39;, profile_sidebar_border_color=&#39;C0DEED&#39;, profile_sidebar_fill_color=&#39;DDEEF6&#39;, profile_text_color=&#39;333333&#39;, profile_use_background_image=True, has_extended_profile=True, default_profile=False, default_profile_image=False, following=True, follow_request_sent=False, notifications=False, translator_type=&#39;none&#39;), user=User(_api=&lt;tweepy.api.API object at 0x000001411DBF3948&gt;, _json={&#39;id&#39;: 44196397, &#39;id_str&#39;: &#39;44196397&#39;, &#39;name&#39;: &#39;Elon Musk&#39;, &#39;screen_name&#39;: &#39;elonmusk&#39;, &#39;location&#39;: &#39;&#39;, &#39;description&#39;: &#39;&#39;, &#39;url&#39;: None, &#39;entities&#39;: {&#39;description&#39;: {&#39;urls&#39;: []}}, &#39;protected&#39;: False, &#39;followers_count&#39;: 39057054, &#39;friends_count&#39;: 97, &#39;listed_count&#39;: 56238, &#39;created_at&#39;: &#39;Tue Jun 02 20:12:29 +0000 2009&#39;, &#39;favourites_count&#39;: 6756, &#39;utc_offset&#39;: None, &#39;time_zone&#39;: None, &#39;geo_enabled&#39;: False, &#39;verified&#39;: True, &#39;statuses_count&#39;: 12445, &#39;lang&#39;: None, &#39;contributors_enabled&#39;: False, &#39;is_translator&#39;: False, &#39;is_translation_enabled&#39;: False, &#39;profile_background_color&#39;: &#39;C0DEED&#39;, &#39;profile_background_image_url&#39;: &#39;http://abs.twimg.com/images/themes/theme1/bg.png&#39;, &#39;profile_background_image_url_https&#39;: &#39;https://abs.twimg.com/images/themes/theme1/bg.png&#39;, &#39;profile_background_tile&#39;: False, &#39;profile_image_url&#39;: &#39;http://pbs.twimg.com/profile_images/1295975423654977537/dHw9JcrK_normal.jpg&#39;, &#39;profile_image_url_https&#39;: &#39;https://pbs.twimg.com/profile_images/1295975423654977537/dHw9JcrK_normal.jpg&#39;, &#39;profile_banner_url&#39;: &#39;https://pbs.twimg.com/profile_banners/44196397/1576183471&#39;, &#39;profile_link_color&#39;: &#39;0084B4&#39;, &#39;profile_sidebar_border_color&#39;: &#39;C0DEED&#39;, &#39;profile_sidebar_fill_color&#39;: &#39;DDEEF6&#39;, &#39;profile_text_color&#39;: &#39;333333&#39;, &#39;profile_use_background_image&#39;: True, &#39;has_extended_profile&#39;: True, &#39;default_profile&#39;: False, &#39;default_profile_image&#39;: False, &#39;following&#39;: True, &#39;follow_request_sent&#39;: False, &#39;notifications&#39;: False, &#39;translator_type&#39;: &#39;none&#39;}, id=44196397, id_str=&#39;44196397&#39;, name=&#39;Elon Musk&#39;, screen_name=&#39;elonmusk&#39;, location=&#39;&#39;, description=&#39;&#39;, url=None, entities={&#39;description&#39;: {&#39;urls&#39;: []}}, protected=False, followers_count=39057054, friends_count=97, listed_count=56238, created_at=datetime.datetime(2009, 6, 2, 20, 12, 29), favourites_count=6756, utc_offset=None, time_zone=None, geo_enabled=False, verified=True, statuses_count=12445, lang=None, contributors_enabled=False, is_translator=False, is_translation_enabled=False, profile_background_color=&#39;C0DEED&#39;, profile_background_image_url=&#39;http://abs.twimg.com/images/themes/theme1/bg.png&#39;, profile_background_image_url_https=&#39;https://abs.twimg.com/images/themes/theme1/bg.png&#39;, profile_background_tile=False, profile_image_url=&#39;http://pbs.twimg.com/profile_images/1295975423654977537/dHw9JcrK_normal.jpg&#39;, profile_image_url_https=&#39;https://pbs.twimg.com/profile_images/1295975423654977537/dHw9JcrK_normal.jpg&#39;, profile_banner_url=&#39;https://pbs.twimg.com/profile_banners/44196397/1576183471&#39;, profile_link_color=&#39;0084B4&#39;, profile_sidebar_border_color=&#39;C0DEED&#39;, profile_sidebar_fill_color=&#39;DDEEF6&#39;, profile_text_color=&#39;333333&#39;, profile_use_background_image=True, has_extended_profile=True, default_profile=False, default_profile_image=False, following=True, follow_request_sent=False, notifications=False, translator_type=&#39;none&#39;), geo=None, coordinates=None, place=None, contributors=None, is_quote_status=False, retweet_count=273, favorite_count=5311, favorited=False, retweeted=False, lang=&#39;en&#39;),\n Status(_api=&lt;tweepy.api.API object at 0x000001411DBF3948&gt;, _json={&#39;created_at&#39;: &#39;Mon Sep 28 20:08:49 +0000 2020&#39;, &#39;id&#39;: 1310672832783884290, &#39;id_str&#39;: &#39;1310672832783884290&#39;, &#39;text&#39;: &#39;@vm_one1 @waEMD @SpaceX We will probably IPO Starlink, but only several years in the future when revenue growth is… https://t.co/kH4QryrKOe&#39;, &#39;truncated&#39;: True, &#39;entities&#39;: {&#39;hashtags&#39;: [], &#39;symbols&#39;: [], &#39;user_mentions&#39;: [{&#39;screen_name&#39;: &#39;vm_one1&#39;, &#39;name&#39;: &#39;VM&#39;, &#39;id&#39;: 701228042216050690, &#39;id_str&#39;: &#39;701228042216050690&#39;, &#39;indices&#39;: [0, 8]}, {&#39;screen_name&#39;: &#39;waEMD&#39;, &#39;name&#39;: &#39;WA Emergency Management 😷&#39;, &#39;id&#39;: 31078404, &#39;id_str&#39;: &#39;31078404&#39;, &#39;indices&#39;: [9, 15]}, {&#39;screen_name&#39;: &#39;SpaceX&#39;, &#39;name&#39;: &#39;SpaceX&#39;, &#39;id&#39;: 34743251, &#39;id_str&#39;: &#39;34743251&#39;, &#39;indices&#39;: [16, 23]}], &#39;urls&#39;: [{&#39;url&#39;: &#39;https://t.co/kH4QryrKOe&#39;, &#39;expanded_url&#39;: &#39;https://twitter.com/i/web/status/1310672832783884290&#39;, &#39;display_url&#39;: &#39;twitter.com/i/web/status/1…&#39;, &#39;indices&#39;: [116, 139]}]}, &#39;source&#39;: &#39;&lt;a href=&quot;http://twitter.com/download/iphone&quot; rel=&quot;nofollow&quot;&gt;Twitter for iPhone&lt;/a&gt;&#39;, &#39;in_reply_to_status_id&#39;: 1310671111844032512, &#39;in_reply_to_status_id_str&#39;: &#39;1310671111844032512&#39;, &#39;in_reply_to_user_id&#39;: 701228042216050690, &#39;in_reply_to_user_id_str&#39;: &#39;701228042216050690&#39;, &#39;in_reply_to_screen_name&#39;: &#39;vm_one1&#39;, &#39;user&#39;: {&#39;id&#39;: 44196397, &#39;id_str&#39;: &#39;44196397&#39;, &#39;name&#39;: &#39;Elon Musk&#39;, &#39;screen_name&#39;: &#39;elonmusk&#39;, &#39;location&#39;: &#39;&#39;, &#39;description&#39;: &#39;&#39;, &#39;url&#39;: None, &#39;entities&#39;: {&#39;description&#39;: {&#39;urls&#39;: []}}, &#39;protected&#39;: False, &#39;followers_count&#39;: 39057054, &#39;friends_count&#39;: 97, &#39;listed_count&#39;: 56238, &#39;created_at&#39;: &#39;Tue Jun 02 20:12:29 +0000 2009&#39;, &#39;favourites_count&#39;: 6756, &#39;utc_offset&#39;: None, &#39;time_zone&#39;: None, &#39;geo_enabled&#39;: False, &#39;verified&#39;: True, &#39;statuses_count&#39;: 12445, &#39;lang&#39;: None, &#39;contributors_enabled&#39;: False, &#39;is_translator&#39;: False, &#39;is_translation_enabled&#39;: False, &#39;profile_background_color&#39;: &#39;C0DEED&#39;, &#39;profile_background_image_url&#39;: &#39;http://abs.twimg.com/images/themes/theme1/bg.png&#39;, &#39;profile_background_image_url_https&#39;: &#39;https://abs.twimg.com/images/themes/theme1/bg.png&#39;, &#39;profile_background_tile&#39;: False, &#39;profile_image_url&#39;: &#39;http://pbs.twimg.com/profile_images/1295975423654977537/dHw9JcrK_normal.jpg&#39;, &#39;profile_image_url_https&#39;: &#39;https://pbs.twimg.com/profile_images/1295975423654977537/dHw9JcrK_normal.jpg&#39;, &#39;profile_banner_url&#39;: &#39;https://pbs.twimg.com/profile_banners/44196397/1576183471&#39;, &#39;profile_link_color&#39;: &#39;0084B4&#39;, &#39;profile_sidebar_border_color&#39;: &#39;C0DEED&#39;, &#39;profile_sidebar_fill_color&#39;: &#39;DDEEF6&#39;, &#39;profile_text_color&#39;: &#39;333333&#39;, &#39;profile_use_background_image&#39;: True, &#39;has_extended_profile&#39;: True, &#39;default_profile&#39;: False, &#39;default_profile_image&#39;: False, &#39;following&#39;: True, &#39;follow_request_sent&#39;: False, &#39;notifications&#39;: False, &#39;translator_type&#39;: &#39;none&#39;}, &#39;geo&#39;: None, &#39;coordinates&#39;: None, &#39;place&#39;: None, &#39;contributors&#39;: None, &#39;is_quote_status&#39;: False, &#39;retweet_count&#39;: 1247, &#39;favorite_count&#39;: 9094, &#39;favorited&#39;: False, &#39;retweeted&#39;: False, &#39;lang&#39;: &#39;en&#39;}, created_at=datetime.datetime(2020, 9, 28, 20, 8, 49), id=1310672832783884290, id_str=&#39;1310672832783884290&#39;, text=&#39;@vm_one1 @waEMD @SpaceX We will probably IPO Starlink, but only several years in the future when revenue growth is… https://t.co/kH4QryrKOe&#39;, truncated=True, entities={&#39;hashtags&#39;: [], &#39;symbols&#39;: [], &#39;user_mentions&#39;: [{&#39;screen_name&#39;: &#39;vm_one1&#39;, &#39;name&#39;: &#39;VM&#39;, &#39;id&#39;: 701228042216050690, &#39;id_str&#39;: &#39;701228042216050690&#39;, &#39;indices&#39;: [0, 8]}, {&#39;screen_name&#39;: &#39;waEMD&#39;, &#39;name&#39;: &#39;WA Emergency Management 😷&#39;, &#39;id&#39;: 31078404, &#39;id_str&#39;: &#39;31078404&#39;, &#39;indices&#39;: [9, 15]}, {&#39;screen_name&#39;: &#39;SpaceX&#39;, &#39;name&#39;: &#39;SpaceX&#39;, &#39;id&#39;: 34743251, &#39;id_str&#39;: &#39;34743251&#39;, &#39;indices&#39;: [16, 23]}], &#39;urls&#39;: [{&#39;url&#39;: &#39;https://t.co/kH4QryrKOe&#39;, &#39;expanded_url&#39;: &#39;https://twitter.com/i/web/status/1310672832783884290&#39;, &#39;display_url&#39;: &#39;twitter.com/i/web/status/1…&#39;, &#39;indices&#39;: [116, 139]}]}, source=&#39;Twitter for iPhone&#39;, source_url=&#39;http://twitter.com/download/iphone&#39;, in_reply_to_status_id=1310671111844032512, in_reply_to_status_id_str=&#39;1310671111844032512&#39;, in_reply_to_user_id=701228042216050690, in_reply_to_user_id_str=&#39;701228042216050690&#39;, in_reply_to_screen_name=&#39;vm_one1&#39;, author=User(_api=&lt;tweepy.api.API object at 0x000001411DBF3948&gt;, _json={&#39;id&#39;: 44196397, &#39;id_str&#39;: &#39;44196397&#39;, &#39;name&#39;: &#39;Elon Musk&#39;, &#39;screen_name&#39;: &#39;elonmusk&#39;, &#39;location&#39;: &#39;&#39;, &#39;description&#39;: &#39;&#39;, &#39;url&#39;: None, &#39;entities&#39;: {&#39;description&#39;: {&#39;urls&#39;: []}}, &#39;protected&#39;: False, &#39;followers_count&#39;: 39057054, &#39;friends_count&#39;: 97, &#39;listed_count&#39;: 56238, &#39;created_at&#39;: &#39;Tue Jun 02 20:12:29 +0000 2009&#39;, &#39;favourites_count&#39;: 6756, &#39;utc_offset&#39;: None, &#39;time_zone&#39;: None, &#39;geo_enabled&#39;: False, &#39;verified&#39;: True, &#39;statuses_count&#39;: 12445, &#39;lang&#39;: None, &#39;contributors_enabled&#39;: False, &#39;is_translator&#39;: False, &#39;is_translation_enabled&#39;: False, &#39;profile_background_color&#39;: &#39;C0DEED&#39;, &#39;profile_background_image_url&#39;: &#39;http://abs.twimg.com/images/themes/theme1/bg.png&#39;, &#39;profile_background_image_url_https&#39;: &#39;https://abs.twimg.com/images/themes/theme1/bg.png&#39;, &#39;profile_background_tile&#39;: False, &#39;profile_image_url&#39;: &#39;http://pbs.twimg.com/profile_images/1295975423654977537/dHw9JcrK_normal.jpg&#39;, &#39;profile_image_url_https&#39;: &#39;https://pbs.twimg.com/profile_images/1295975423654977537/dHw9JcrK_normal.jpg&#39;, &#39;profile_banner_url&#39;: &#39;https://pbs.twimg.com/profile_banners/44196397/1576183471&#39;, &#39;profile_link_color&#39;: &#39;0084B4&#39;, &#39;profile_sidebar_border_color&#39;: &#39;C0DEED&#39;, &#39;profile_sidebar_fill_color&#39;: &#39;DDEEF6&#39;, &#39;profile_text_color&#39;: &#39;333333&#39;, &#39;profile_use_background_image&#39;: True, &#39;has_extended_profile&#39;: True, &#39;default_profile&#39;: False, &#39;default_profile_image&#39;: False, &#39;following&#39;: True, &#39;follow_request_sent&#39;: False, &#39;notifications&#39;: False, &#39;translator_type&#39;: &#39;none&#39;}, id=44196397, id_str=&#39;44196397&#39;, name=&#39;Elon Musk&#39;, screen_name=&#39;elonmusk&#39;, location=&#39;&#39;, description=&#39;&#39;, url=None, entities={&#39;description&#39;: {&#39;urls&#39;: []}}, protected=False, followers_count=39057054, friends_count=97, listed_count=56238, created_at=datetime.datetime(2009, 6, 2, 20, 12, 29), favourites_count=6756, utc_offset=None, time_zone=None, geo_enabled=False, verified=True, statuses_count=12445, lang=None, contributors_enabled=False, is_translator=False, is_translation_enabled=False, profile_background_color=&#39;C0DEED&#39;, profile_background_image_url=&#39;http://abs.twimg.com/images/themes/theme1/bg.png&#39;, profile_background_image_url_https=&#39;https://abs.twimg.com/images/themes/theme1/bg.png&#39;, profile_background_tile=False, profile_image_url=&#39;http://pbs.twimg.com/profile_images/1295975423654977537/dHw9JcrK_normal.jpg&#39;, profile_image_url_https=&#39;https://pbs.twimg.com/profile_images/1295975423654977537/dHw9JcrK_normal.jpg&#39;, profile_banner_url=&#39;https://pbs.twimg.com/profile_banners/44196397/1576183471&#39;, profile_link_color=&#39;0084B4&#39;, profile_sidebar_border_color=&#39;C0DEED&#39;, profile_sidebar_fill_color=&#39;DDEEF6&#39;, profile_text_color=&#39;333333&#39;, profile_use_background_image=True, has_extended_profile=True, default_profile=False, default_profile_image=False, following=True, follow_request_sent=False, notifications=False, translator_type=&#39;none&#39;), user=User(_api=&lt;tweepy.api.API object at 0x000001411DBF3948&gt;, _json={&#39;id&#39;: 44196397, &#39;id_str&#39;: &#39;44196397&#39;, &#39;name&#39;: &#39;Elon Musk&#39;, &#39;screen_name&#39;: &#39;elonmusk&#39;, &#39;location&#39;: &#39;&#39;, &#39;description&#39;: &#39;&#39;, &#39;url&#39;: None, &#39;entities&#39;: {&#39;description&#39;: {&#39;urls&#39;: []}}, &#39;protected&#39;: False, &#39;followers_count&#39;: 39057054, &#39;friends_count&#39;: 97, &#39;listed_count&#39;: 56238, &#39;created_at&#39;: &#39;Tue Jun 02 20:12:29 +0000 2009&#39;, &#39;favourites_count&#39;: 6756, &#39;utc_offset&#39;: None, &#39;time_zone&#39;: None, &#39;geo_enabled&#39;: False, &#39;verified&#39;: True, &#39;statuses_count&#39;: 12445, &#39;lang&#39;: None, &#39;contributors_enabled&#39;: False, &#39;is_translator&#39;: False, &#39;is_translation_enabled&#39;: False, &#39;profile_background_color&#39;: &#39;C0DEED&#39;, &#39;profile_background_image_url&#39;: &#39;http://abs.twimg.com/images/themes/theme1/bg.png&#39;, &#39;profile_background_image_url_https&#39;: &#39;https://abs.twimg.com/images/themes/theme1/bg.png&#39;, &#39;profile_background_tile&#39;: False, &#39;profile_image_url&#39;: &#39;http://pbs.twimg.com/profile_images/1295975423654977537/dHw9JcrK_normal.jpg&#39;, &#39;profile_image_url_https&#39;: &#39;https://pbs.twimg.com/profile_images/1295975423654977537/dHw9JcrK_normal.jpg&#39;, &#39;profile_banner_url&#39;: &#39;https://pbs.twimg.com/profile_banners/44196397/1576183471&#39;, &#39;profile_link_color&#39;: &#39;0084B4&#39;, &#39;profile_sidebar_border_color&#39;: &#39;C0DEED&#39;, &#39;profile_sidebar_fill_color&#39;: &#39;DDEEF6&#39;, &#39;profile_text_color&#39;: &#39;333333&#39;, &#39;profile_use_background_image&#39;: True, &#39;has_extended_profile&#39;: True, &#39;default_profile&#39;: False, &#39;default_profile_image&#39;: False, &#39;following&#39;: True, &#39;follow_request_sent&#39;: False, &#39;notifications&#39;: False, &#39;translator_type&#39;: &#39;none&#39;}, id=44196397, id_str=&#39;44196397&#39;, name=&#39;Elon Musk&#39;, screen_name=&#39;elonmusk&#39;, location=&#39;&#39;, description=&#39;&#39;, url=None, entities={&#39;description&#39;: {&#39;urls&#39;: []}}, protected=False, followers_count=39057054, friends_count=97, listed_count=56238, created_at=datetime.datetime(2009, 6, 2, 20, 12, 29), favourites_count=6756, utc_offset=None, time_zone=None, geo_enabled=False, verified=True, statuses_count=12445, lang=None, contributors_enabled=False, is_translator=False, is_translation_enabled=False, profile_background_color=&#39;C0DEED&#39;, profile_background_image_url=&#39;http://abs.twimg.com/images/themes/theme1/bg.png&#39;, profile_background_image_url_https=&#39;https://abs.twimg.com/images/themes/theme1/bg.png&#39;, profile_background_tile=False, profile_image_url=&#39;http://pbs.twimg.com/profile_images/1295975423654977537/dHw9JcrK_normal.jpg&#39;, profile_image_url_https=&#39;https://pbs.twimg.com/profile_images/1295975423654977537/dHw9JcrK_normal.jpg&#39;, profile_banner_url=&#39;https://pbs.twimg.com/profile_banners/44196397/1576183471&#39;, profile_link_color=&#39;0084B4&#39;, profile_sidebar_border_color=&#39;C0DEED&#39;, profile_sidebar_fill_color=&#39;DDEEF6&#39;, profile_text_color=&#39;333333&#39;, profile_use_background_image=True, has_extended_profile=True, default_profile=False, default_profile_image=False, following=True, follow_request_sent=False, notifications=False, translator_type=&#39;none&#39;), geo=None, coordinates=None, place=None, contributors=None, is_quote_status=False, retweet_count=1247, favorite_count=9094, favorited=False, retweeted=False, lang=&#39;en&#39;)]"
     },
     "metadata": {},
     "execution_count": 7
    }
   ],
   "source": [
    "elon_tweets = twitter_user.timeline()\n",
    "elon_tweets"
   ]
  },
  {
   "cell_type": "code",
   "execution_count": 9,
   "metadata": {},
   "outputs": [
    {
     "output_type": "execute_result",
     "data": {
      "text/plain": "&#39;@FOX10Phoenix 💰💩🤣&#39;"
     },
     "metadata": {},
     "execution_count": 9
    }
   ],
   "source": [
    "elon_tweets[0].text"
   ]
  },
  {
   "cell_type": "code",
   "execution_count": 10,
   "metadata": {},
   "outputs": [
    {
     "output_type": "execute_result",
     "data": {
      "text/plain": "20"
     },
     "metadata": {},
     "execution_count": 10
    }
   ],
   "source": [
    "len(elon_tweets)"
   ]
  },
  {
   "cell_type": "code",
   "execution_count": 20,
   "metadata": {},
   "outputs": [
    {
     "output_type": "execute_result",
     "data": {
      "text/plain": "20"
     },
     "metadata": {},
     "execution_count": 20
    }
   ],
   "source": [
    "elon_tweets = twitter_user.timeline(count=200,\n",
    "                                    exclude_replies=True,\n",
    "                                    include_rts=False,\n",
    "                                    # max_id='1303802636827799555',\n",
    "                                    tweet_mode='extended')\n",
    "len(elon_tweets)"
   ]
  },
  {
   "cell_type": "code",
   "execution_count": 21,
   "metadata": {},
   "outputs": [
    {
     "output_type": "execute_result",
     "data": {
      "text/plain": "&#39;Thanks Tesla Team for great work on deliveries! For new owners, we super appreciate accommodating us on delivery timing! Definitely one of our toughest quarters in global logistics.&#39;"
     },
     "metadata": {},
     "execution_count": 21
    }
   ],
   "source": [
    "elon_tweets[1].full_text"
   ]
  },
  {
   "cell_type": "markdown",
   "metadata": {},
   "source": [
    "### SpaCy Embeddings"
   ]
  },
  {
   "cell_type": "code",
   "execution_count": 1,
   "metadata": {},
   "outputs": [],
   "source": [
    "import spacy"
   ]
  },
  {
   "cell_type": "code",
   "execution_count": 5,
   "metadata": {},
   "outputs": [
    {
     "output_type": "execute_result",
     "data": {
      "text/plain": "[&#39;__builtins__&#39;,\n &#39;__cached__&#39;,\n &#39;__doc__&#39;,\n &#39;__file__&#39;,\n &#39;__loader__&#39;,\n &#39;__name__&#39;,\n &#39;__package__&#39;,\n &#39;__path__&#39;,\n &#39;__spec__&#39;,\n &#39;convert&#39;,\n &#39;converters&#39;,\n &#39;debug_data&#39;,\n &#39;download&#39;,\n &#39;evaluate&#39;,\n &#39;info&#39;,\n &#39;init_model&#39;,\n &#39;link&#39;,\n &#39;package&#39;,\n &#39;pretrain&#39;,\n &#39;profile&#39;,\n &#39;train&#39;,\n &#39;validate&#39;]"
     },
     "metadata": {},
     "execution_count": 5
    }
   ],
   "source": [
    "spacy."
   ]
  },
  {
   "cell_type": "code",
   "execution_count": null,
   "metadata": {},
   "outputs": [],
   "source": []
  },
  {
   "source": [
    "### Bringing it all together"
   ],
   "cell_type": "markdown",
   "metadata": {}
  },
  {
   "cell_type": "code",
   "execution_count": null,
   "metadata": {},
   "outputs": [],
   "source": [
    "def add_or_update_user(username, nlp):\n",
    "    try:\n",
    "        twitter_user = TWITTER.get_user(username)\n",
    "        tweets = twitter_user.timeline(count=200,\n",
    "                                    exclude_replies=True,\n",
    "                                    include_rts=False,\n",
    "                                    tweet_mode='extended')\n",
    "        embeddings = vectorize_tweet(nlp, tweets[0].full_text)\n",
    "    except Exception as e:\n",
    "        print('Error processing {}: {}'.format(username, e))\n",
    "    return tweets, embeddings"
   ]
  },
  {
   "cell_type": "code",
   "execution_count": null,
   "metadata": {},
   "outputs": [],
   "source": [
    "def add_user_tweepy(username):\n",
    "    '''Add a user and their tweets to database'''\n",
    "    try:\n",
    "        # Get user info from tweepy\n",
    "        twitter_user = TWITTER.get_user(username)\n",
    "        # Add to User table (or check if existing)\n",
    "        db_user = (User.query.get(twitter_user.id) or\n",
    "                   User(id=twitter_user.id,\n",
    "                        username=username,\n",
    "                        follower_count=twitter_user.followers_count))\n",
    "        db.session.add(db_user)\n",
    "        # Get tweets ignoring re-tweets and replies\n",
    "        tweets = twitter_user.timeline(count=200,\n",
    "                                       exclude_replies=True,\n",
    "                                       include_rts=False,\n",
    "                                       tweet_mode='extended',\n",
    "                                       since_id=db_user.newest_tweet_id)\n",
    "        # Add newest_tweet_id to the User table\n",
    "        if tweets:\n",
    "            db_user.newest_tweet_id = tweets[0].id\n",
    "        # Loop over tweets, get embedding and add to Tweet table\n",
    "        for tweet in tweets:\n",
    "            # Get an examble basilica embedding for first tweet\n",
    "            embedding = BASILICA.embed_sentence(tweet.full_text, model='twitter')\n",
    "            # Add tweet info to Tweet table\n",
    "            db_tweet = Tweet(id=tweet.id,\n",
    "                             text=tweet.full_text[:300],\n",
    "                             embedding=embedding)\n",
    "            db_user.tweet.append(db_tweet)\n",
    "            db.session.add(db_tweet)\n",
    "    except Exception as e:\n",
    "        print('Error processing {}: {}'.format(username, e))\n",
    "        raise e\n",
    "    else:\n",
    "        # If no errors happend than commit the records\n",
    "        db.session.commit()"
   ]
  }
 ],
 "metadata": {
  "colab": {
   "collapsed_sections": [],
   "name": "DSPT6_APIs_Demo.ipynb",
   "provenance": []
  },
  "kernelspec": {
   "name": "python38264bittwitoffpipenvcf139b4544a54b718f29ef41926b65d9",
   "display_name": "Python 3.8.2 64-bit ('twitoff': pipenv)",
   "metadata": {
    "interpreter": {
     "hash": "003ac9aaa1485d5b771c302278ee1fa2d675754790301e4c4d0b7cf7d8ab189c"
    }
   }
  },
  "language_info": {
   "codemirror_mode": {
    "name": "ipython",
    "version": 3
   },
   "file_extension": ".py",
   "mimetype": "text/x-python",
   "name": "python",
   "nbconvert_exporter": "python",
   "pygments_lexer": "ipython3",
   "version": "3.8.2-final"
  },
  "toc": {
   "base_numbering": 1,
   "nav_menu": {},
   "number_sections": true,
   "sideBar": true,
   "skip_h1_title": false,
   "title_cell": "Table of Contents",
   "title_sidebar": "Contents",
   "toc_cell": true,
   "toc_position": {},
   "toc_section_display": true,
   "toc_window_display": false
  }
 },
 "nbformat": 4,
 "nbformat_minor": 4
}