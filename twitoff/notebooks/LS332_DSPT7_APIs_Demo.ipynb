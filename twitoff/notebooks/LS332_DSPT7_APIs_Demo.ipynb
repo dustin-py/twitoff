{
 "cells": [
  {
   "cell_type": "markdown",
   "metadata": {
    "colab": {
     "base_uri": "https://localhost:8080/",
     "height": 155
    },
    "colab_type": "code",
    "id": "SGPLRW-t1ECX",
    "outputId": "f774218a-8e3e-46b3-80ec-8eb1667ddd33"
   },
   "source": [
    "### DSPT6 - Unit 3 Module 2 - Consuming Data from an API\n",
    "\n",
    "The purpose of this notebook is to demonstrate:\n",
    "- Connect to the Twitter API (and twitter_scraper) to query for tweets and user information by various parameters\n",
    "- Convert tweet text using SpaCy into numerical embeddings that can be use in a predictive model"
   ]
  },
  {
   "cell_type": "code",
   "execution_count": 1,
   "metadata": {
    "colab": {},
    "colab_type": "code",
    "id": "vS_A9hjG1HGD"
   },
   "outputs": [],
   "source": [
    "import tweepy"
   ]
  },
  {
   "cell_type": "code",
   "execution_count": 2,
   "metadata": {
    "colab": {},
    "colab_type": "code",
    "id": "ntkRF7mp8zqp"
   },
   "outputs": [],
   "source": [
    "## ADD YOUR CREDENTIALS HERE\n",
    "TWITTER_CONSUMER_API_KEY = 'u21oPsosPqUKamwd0gwBO6zf1'\n",
    "TWITTER_CONSUMER_API_SECRET = 'Oa8WNzHfDlfFl2gUbEzaJY3qicN3a3O5P3YYvBzzCH4BLRFWuf'\n",
    "TWITTER_ACCESS_TOKEN = '1259857629200908288-Qg2LxIvvw5W9O5eRPMQhBAE80Gutc5'\n",
    "TWITTER_ACCESS_TOKEN_SECRET = 'GJHPQht7k54NBgzsP1mGZAz5GLsER9EghXSe2VunggcYb'"
   ]
  },
  {
   "cell_type": "code",
   "execution_count": 3,
   "metadata": {
    "colab": {},
    "colab_type": "code",
    "id": "6F65yM5G1gP1"
   },
   "outputs": [],
   "source": [
    "TWITTER_AUTH = tweepy.OAuthHandler(TWITTER_CONSUMER_API_KEY, TWITTER_CONSUMER_API_SECRET)\n",
    "TWITTER_AUTH.set_access_token(TWITTER_ACCESS_TOKEN, TWITTER_ACCESS_TOKEN_SECRET)\n",
    "TWITTER = tweepy.API(TWITTER_AUTH)"
   ]
  },
  {
   "cell_type": "code",
   "execution_count": 5,
   "metadata": {},
   "outputs": [
    {
     "output_type": "execute_result",
     "data": {
      "text/plain": "[&#39;__class__&#39;,\n &#39;__delattr__&#39;,\n &#39;__dict__&#39;,\n &#39;__dir__&#39;,\n &#39;__doc__&#39;,\n &#39;__eq__&#39;,\n &#39;__format__&#39;,\n &#39;__ge__&#39;,\n &#39;__getattribute__&#39;,\n &#39;__gt__&#39;,\n &#39;__hash__&#39;,\n &#39;__init__&#39;,\n &#39;__init_subclass__&#39;,\n &#39;__le__&#39;,\n &#39;__lt__&#39;,\n &#39;__module__&#39;,\n &#39;__ne__&#39;,\n &#39;__new__&#39;,\n &#39;__reduce__&#39;,\n &#39;__reduce_ex__&#39;,\n &#39;__repr__&#39;,\n &#39;__setattr__&#39;,\n &#39;__sizeof__&#39;,\n &#39;__str__&#39;,\n &#39;__subclasshook__&#39;,\n &#39;__weakref__&#39;,\n &#39;_add_list_members&#39;,\n &#39;_lookup_friendships&#39;,\n &#39;_pack_image&#39;,\n &#39;_remove_list_members&#39;,\n &#39;_send_direct_message&#39;,\n &#39;add_list_member&#39;,\n &#39;add_list_members&#39;,\n &#39;api_root&#39;,\n &#39;auth&#39;,\n &#39;blocks&#39;,\n &#39;blocks_ids&#39;,\n &#39;cache&#39;,\n &#39;compression&#39;,\n &#39;configuration&#39;,\n &#39;create_block&#39;,\n &#39;create_favorite&#39;,\n &#39;create_friendship&#39;,\n &#39;create_list&#39;,\n &#39;create_media_metadata&#39;,\n &#39;create_mute&#39;,\n &#39;create_saved_search&#39;,\n &#39;destroy_block&#39;,\n &#39;destroy_direct_message&#39;,\n &#39;destroy_favorite&#39;,\n &#39;destroy_friendship&#39;,\n &#39;destroy_list&#39;,\n &#39;destroy_mute&#39;,\n &#39;destroy_saved_search&#39;,\n &#39;destroy_status&#39;,\n &#39;favorites&#39;,\n &#39;followers&#39;,\n &#39;followers_ids&#39;,\n &#39;friends&#39;,\n &#39;friends_ids&#39;,\n &#39;friendships_incoming&#39;,\n &#39;friendships_outgoing&#39;,\n &#39;geo_id&#39;,\n &#39;geo_search&#39;,\n &#39;geo_similar_places&#39;,\n &#39;get_direct_message&#39;,\n &#39;get_list&#39;,\n &#39;get_oembed&#39;,\n &#39;get_saved_search&#39;,\n &#39;get_settings&#39;,\n &#39;get_status&#39;,\n &#39;get_user&#39;,\n &#39;home_timeline&#39;,\n &#39;host&#39;,\n &#39;list_direct_messages&#39;,\n &#39;list_members&#39;,\n &#39;list_subscribers&#39;,\n &#39;list_timeline&#39;,\n &#39;lists_all&#39;,\n &#39;lists_memberships&#39;,\n &#39;lists_subscriptions&#39;,\n &#39;lookup_friendships&#39;,\n &#39;lookup_users&#39;,\n &#39;me&#39;,\n &#39;media_upload&#39;,\n &#39;mentions_timeline&#39;,\n &#39;mutes&#39;,\n &#39;mutes_ids&#39;,\n &#39;parser&#39;,\n &#39;proxy&#39;,\n &#39;rate_limit_status&#39;,\n &#39;related_results&#39;,\n &#39;remove_list_member&#39;,\n &#39;remove_list_members&#39;,\n &#39;report_spam&#39;,\n &#39;retry_count&#39;,\n &#39;retry_delay&#39;,\n &#39;retry_errors&#39;,\n &#39;retweet&#39;,\n &#39;retweeters&#39;,\n &#39;retweets&#39;,\n &#39;retweets_of_me&#39;,\n &#39;reverse_geocode&#39;,\n &#39;saved_searches&#39;,\n &#39;search&#39;,\n &#39;search_host&#39;,\n &#39;search_root&#39;,\n &#39;search_users&#39;,\n &#39;send_direct_message&#39;,\n &#39;set_settings&#39;,\n &#39;show_friendship&#39;,\n &#39;show_list_member&#39;,\n &#39;show_list_subscriber&#39;,\n &#39;statuses_lookup&#39;,\n &#39;subscribe_list&#39;,\n &#39;supported_languages&#39;,\n &#39;timeout&#39;,\n &#39;trends_available&#39;,\n &#39;trends_closest&#39;,\n &#39;trends_place&#39;,\n &#39;unretweet&#39;,\n &#39;unsubscribe_list&#39;,\n &#39;update_list&#39;,\n &#39;update_profile&#39;,\n &#39;update_profile_background_image&#39;,\n &#39;update_profile_banner&#39;,\n &#39;update_profile_image&#39;,\n &#39;update_status&#39;,\n &#39;update_with_media&#39;,\n &#39;upload_host&#39;,\n &#39;upload_root&#39;,\n &#39;user_timeline&#39;,\n &#39;verify_credentials&#39;,\n &#39;wait_on_rate_limit&#39;,\n &#39;wait_on_rate_limit_notify&#39;]"
     },
     "metadata": {},
     "execution_count": 5
    }
   ],
   "source": [
    "dir(TWITTER)"
   ]
  },
  {
   "cell_type": "code",
   "execution_count": 6,
   "metadata": {},
   "outputs": [],
   "source": [
    "twitter_user = TWITTER.get_user('elonmusk')"
   ]
  },
  {
   "cell_type": "code",
   "execution_count": 8,
   "metadata": {},
   "outputs": [
    {
     "output_type": "execute_result",
     "data": {
      "text/plain": "39058219"
     },
     "metadata": {},
     "execution_count": 8
    }
   ],
   "source": [
    "twitter_user.followers_count"
   ]
  },
  {
   "cell_type": "code",
   "execution_count": null,
   "metadata": {},
   "outputs": [],
   "source": []
  },
  {
   "cell_type": "code",
   "execution_count": null,
   "metadata": {},
   "outputs": [],
   "source": []
  },
  {
   "cell_type": "code",
   "execution_count": null,
   "metadata": {},
   "outputs": [],
   "source": []
  },
  {
   "cell_type": "markdown",
   "metadata": {},
   "source": [
    "### SpaCy Embeddings"
   ]
  },
  {
   "cell_type": "code",
   "execution_count": 4,
   "metadata": {},
   "outputs": [],
   "source": [
    "import spacy"
   ]
  },
  {
   "cell_type": "code",
   "execution_count": null,
   "metadata": {},
   "outputs": [],
   "source": []
  },
  {
   "cell_type": "code",
   "execution_count": null,
   "metadata": {},
   "outputs": [],
   "source": []
  },
  {
   "cell_type": "markdown",
   "metadata": {},
   "source": [
    "### Bringing it all together"
   ]
  },
  {
   "cell_type": "code",
   "execution_count": null,
   "metadata": {},
   "outputs": [],
   "source": []
  }
 ],
 "metadata": {
  "colab": {
   "collapsed_sections": [],
   "name": "DSPT6_APIs_Demo.ipynb",
   "provenance": []
  },
  "kernelspec": {
   "display_name": "Python 3.8.2 64-bit ('twitoff': pipenv)",
   "language": "python",
   "name": "python38264bittwitoffpipenvcf139b4544a54b718f29ef41926b65d9"
  },
  "language_info": {
   "codemirror_mode": {
    "name": "ipython",
    "version": 3
   },
   "file_extension": ".py",
   "mimetype": "text/x-python",
   "name": "python",
   "nbconvert_exporter": "python",
   "pygments_lexer": "ipython3",
   "version": "3.8.2-final"
  }
 },
 "nbformat": 4,
 "nbformat_minor": 4
}