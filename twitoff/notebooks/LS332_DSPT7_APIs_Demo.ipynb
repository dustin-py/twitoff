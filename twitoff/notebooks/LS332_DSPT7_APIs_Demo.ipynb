{
 "cells": [
  {
   "cell_type": "markdown",
   "metadata": {
    "colab": {
     "base_uri": "https://localhost:8080/",
     "height": 155
    },
    "colab_type": "code",
    "id": "SGPLRW-t1ECX",
    "outputId": "f774218a-8e3e-46b3-80ec-8eb1667ddd33"
   },
   "source": [
    "### DSPT6 - Unit 3 Module 2 - Consuming Data from an API\n",
    "\n",
    "The purpose of this notebook is to demonstrate:\n",
    "- Connect to the Twitter API (and twitter_scraper) to query for tweets and user information by various parameters\n",
    "- Convert tweet text using SpaCy into numerical embeddings that can be use in a predictive model"
   ]
  },
  {
   "cell_type": "code",
   "execution_count": 1,
   "metadata": {
    "colab": {},
    "colab_type": "code",
    "id": "vS_A9hjG1HGD"
   },
   "outputs": [],
   "source": [
    "import tweepy"
   ]
  },
  {
   "cell_type": "code",
   "execution_count": 2,
   "metadata": {
    "colab": {},
    "colab_type": "code",
    "id": "ntkRF7mp8zqp"
   },
   "outputs": [],
   "source": [
    "## ADD YOUR CREDENTIALS HERE\n",
    "TWITTER_CONSUMER_API_KEY = 'u21oPsosPqUKamwd0gwBO6zf1'\n",
    "TWITTER_CONSUMER_API_SECRET = 'Oa8WNzHfDlfFl2gUbEzaJY3qicN3a3O5P3YYvBzzCH4BLRFWuf'\n",
    "TWITTER_ACCESS_TOKEN = '1259857629200908288-Qg2LxIvvw5W9O5eRPMQhBAE80Gutc5'\n",
    "TWITTER_ACCESS_TOKEN_SECRET = 'GJHPQht7k54NBgzsP1mGZAz5GLsER9EghXSe2VunggcYb'"
   ]
  },
  {
   "cell_type": "code",
   "execution_count": 3,
   "metadata": {
    "colab": {},
    "colab_type": "code",
    "id": "6F65yM5G1gP1"
   },
   "outputs": [],
   "source": [
    "TWITTER_AUTH = tweepy.OAuthHandler(TWITTER_CONSUMER_API_KEY, TWITTER_CONSUMER_API_SECRET)\n",
    "TWITTER_AUTH.set_access_token(TWITTER_ACCESS_TOKEN, TWITTER_ACCESS_TOKEN_SECRET)\n",
    "TWITTER = tweepy.API(TWITTER_AUTH)"
   ]
  },
  {
   "cell_type": "code",
   "execution_count": 6,
   "metadata": {},
   "outputs": [],
   "source": [
    "twitter_user = TWITTER.get_user('elonmusk')"
   ]
  },
  {
   "cell_type": "code",
   "execution_count": 8,
   "metadata": {},
   "outputs": [
    {
     "output_type": "execute_result",
     "data": {
      "text/plain": "39058219"
     },
     "metadata": {},
     "execution_count": 8
    }
   ],
   "source": [
    "twitter_user.followers_count"
   ]
  },
  {
   "cell_type": "code",
   "execution_count": 4,
   "metadata": {},
   "outputs": [],
   "source": [
    "user = TWITTER.get_user('dustinstri92')"
   ]
  },
  {
   "cell_type": "code",
   "execution_count": 5,
   "metadata": {
    "tags": []
   },
   "outputs": [],
   "source": [
    "tweet = user.timeline()[0]"
   ]
  },
  {
   "cell_type": "code",
   "execution_count": null,
   "metadata": {},
   "outputs": [],
   "source": []
  },
  {
   "cell_type": "code",
   "execution_count": 17,
   "metadata": {},
   "outputs": [],
   "source": [
    "def add_or_update_user(username, nlp):\n",
    "    try:\n",
    "        twitter_user = TWITTER.get_user(username)\n",
    "        tweets = twitter_user.timeline(count=200,\n",
    "                                    exclude_replies=True,\n",
    "                                    include_rts=False,\n",
    "                                    tweet_mode='extended')\n",
    "        embeddings = vectorize_tweet(nlp, tweets[0].full_text)\n",
    "    except Exception as e:\n",
    "        print('Error processing {}: {}'.format(username, e))\n",
    "    return tweets, embeddings"
   ]
  },
  {
   "cell_type": "code",
   "execution_count": 18,
   "metadata": {},
   "outputs": [],
   "source": [
    "def add_user_tweepy(username):\n",
    "    '''Add a user and their tweets to database'''\n",
    "    try:\n",
    "        # Get user info from tweepy\n",
    "        twitter_user = TWITTER.get_user(username)\n",
    "        # Add to User table (or check if existing)\n",
    "        db_user = (User.query.get(twitter_user.id) or\n",
    "                   User(id=twitter_user.id,\n",
    "                        username=username,\n",
    "                        follower_count=twitter_user.followers_count))\n",
    "        db.session.add(db_user)\n",
    "        # Get tweets ignoring re-tweets and replies\n",
    "        tweets = twitter_user.timeline(count=200,\n",
    "                                       exclude_replies=True,\n",
    "                                       include_rts=False,\n",
    "                                       tweet_mode='extended',\n",
    "                                       since_id=db_user.newest_tweet_id)\n",
    "        # Add newest_tweet_id to the User table\n",
    "        if tweets:\n",
    "            db_user.newest_tweet_id = tweets[0].id\n",
    "        # Loop over tweets, get embedding and add to Tweet table\n",
    "        for tweet in tweets:\n",
    "            # Get an examble basilica embedding for first tweet\n",
    "            embedding = BASILICA.embed_sentence(tweet.full_text, model='twitter')\n",
    "            # Add tweet info to Tweet table\n",
    "            db_tweet = Tweet(id=tweet.id,\n",
    "                             text=tweet.full_text[:300],\n",
    "                             embedding=embedding)\n",
    "            db_user.tweet.append(db_tweet)\n",
    "            db.session.add(db_tweet)\n",
    "    except Exception as e:\n",
    "        print('Error processing {}: {}'.format(username, e))\n",
    "        raise e\n",
    "    else:\n",
    "        # If no errors happend than commit the records\n",
    "        db.session.commit()"
   ]
  },
  {
   "cell_type": "markdown",
   "metadata": {},
   "source": [
    "### SpaCy Embeddings"
   ]
  },
  {
   "cell_type": "code",
   "execution_count": 7,
   "metadata": {},
   "outputs": [],
   "source": [
    "import spacy"
   ]
  },
  {
   "cell_type": "code",
   "execution_count": 8,
   "metadata": {},
   "outputs": [],
   "source": [
    "nlp = spacy.load('en_core_web_sm')"
   ]
  },
  {
   "cell_type": "code",
   "execution_count": 10,
   "metadata": {},
   "outputs": [],
   "source": [
    "doc = nlp(tweet.text)"
   ]
  },
  {
   "cell_type": "code",
   "execution_count": 16,
   "metadata": {
    "tags": []
   },
   "outputs": [
    {
     "output_type": "stream",
     "name": "stdout",
     "text": "[&#39;To&#39;, &#39;err&#39;, &#39;is&#39;, &#39;human&#39;, &#39;,&#39;, &#39;but&#39;, &#39;to&#39;, &#39;really&#39;, &#39;foul&#39;, &#39;things&#39;, &#39;up&#39;, &#39;requires&#39;, &#39;the&#39;, &#39;root&#39;, &#39;password&#39;, &#39;.&#39;, &#39;\\n&#39;, &#39;-Unknown&#39;]\n"
    }
   ],
   "source": [
    "print([token.text for token in doc])"
   ]
  },
  {
   "cell_type": "markdown",
   "metadata": {},
   "source": [
    "### Bringing it all together"
   ]
  },
  {
   "cell_type": "code",
   "execution_count": null,
   "metadata": {},
   "outputs": [],
   "source": []
  }
 ],
 "metadata": {
  "colab": {
   "collapsed_sections": [],
   "name": "DSPT6_APIs_Demo.ipynb",
   "provenance": []
  },
  "kernelspec": {
   "display_name": "Python 3.8.2 64-bit ('twitoff': pipenv)",
   "language": "python",
   "name": "python38264bittwitoffpipenvcf139b4544a54b718f29ef41926b65d9"
  },
  "language_info": {
   "codemirror_mode": {
    "name": "ipython",
    "version": 3
   },
   "file_extension": ".py",
   "mimetype": "text/x-python",
   "name": "python",
   "nbconvert_exporter": "python",
   "pygments_lexer": "ipython3",
   "version": "3.8.2-final"
  }
 },
 "nbformat": 4,
 "nbformat_minor": 4
}